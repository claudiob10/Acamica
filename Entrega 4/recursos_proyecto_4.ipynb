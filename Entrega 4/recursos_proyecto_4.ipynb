{
 "cells": [
  {
   "cell_type": "markdown",
   "metadata": {},
   "source": [
    "# MiniProyecto 4: Optimización de parámetros"
   ]
  },
  {
   "cell_type": "markdown",
   "metadata": {},
   "source": [
    "¡Bienvenidos al cuarto (mini)proyecto de la carrera de Data Science de Acamica! \n",
    "\n",
    "En este proyecto vamos a seguir trabajando (por última vez) con el dataset de propiedades en venta publicadas en el portal [Properati](www.properati.com.ar). El objetivo en este caso es optimizar los parámetros de los algoritmos que usamos en el proyecto pasado.\n",
    "\n",
    "El dataset es el mismo del proyecto 3. Recordemos que las columnas que se agregan son:\n",
    "\n",
    "* `barrios_match`: si coincide el barrio publicado con el geográfico vale 1, si no 0.\n",
    "\n",
    "* `PH`, `apartment`, `house`: variables binarias que indican el tipo de propiedad.\n",
    "\n",
    "* dummies de barrios: variables binarias con 1 o 0 según el barrio.\n",
    "\n",
    "La métrica que vamos a usar para medir es RMSE (raíz del error cuadréatico medio), cuya fórmula es:\n",
    "\n",
    "$$RMSE = \\sqrt{\\frac{\\sum_{t=1}^n (\\hat y_t - y_t)^2}{n}}$$"
   ]
  },
  {
   "cell_type": "markdown",
   "metadata": {},
   "source": [
    "## Pandas - Levantamos el dataset"
   ]
  },
  {
   "cell_type": "code",
   "execution_count": 22,
   "metadata": {},
   "outputs": [],
   "source": [
    "import pandas as pd\n",
    "pd.set_option('display.float_format', lambda x: '%.3f' % x)\n",
    "path_dataset = 'dataset/datos_properati_limpios_model.csv'\n",
    "df = pd.read_csv(path_dataset)"
   ]
  },
  {
   "cell_type": "markdown",
   "metadata": {},
   "source": [
    "**Separá** el dataset en entrenamiento (80%) y test (20%) utilizando como target la columna `price_aprox_usd`"
   ]
  },
  {
   "cell_type": "code",
   "execution_count": 23,
   "metadata": {},
   "outputs": [],
   "source": [
    "# Hacé la separación en esta celda\n",
    "from sklearn.model_selection import train_test_split\n",
    "X = df.drop(['price_aprox_usd'], axis=1)\n",
    "y = df.price_aprox_usd\n",
    "X_train, X_test, y_train, y_test = train_test_split(X, y, test_size=0.20, random_state=42)"
   ]
  },
  {
   "cell_type": "code",
   "execution_count": 24,
   "metadata": {},
   "outputs": [
    {
     "name": "stdout",
     "output_type": "stream",
     "text": [
      "5100 1276\n"
     ]
    }
   ],
   "source": [
    "# Esto es lo que hace\n",
    "import numpy as np\n",
    "np.random.seed(123)\n",
    "from sklearn.model_selection import train_test_split\n",
    "X = df.drop(['price_aprox_usd'], axis=1)\n",
    "y = df['price_aprox_usd']\n",
    "X_train, X_test, y_train, y_test = train_test_split(\n",
    "    X, y, test_size=0.2, random_state=42)\n",
    "\n",
    "print(X_train.shape[0], X_test.shape[0])"
   ]
  },
  {
   "cell_type": "markdown",
   "metadata": {},
   "source": [
    "## Scikit-learn - Entrenamiento"
   ]
  },
  {
   "cell_type": "markdown",
   "metadata": {},
   "source": [
    "Para repasar los parámetros de árboles de decisión en Scikit-learn: \n",
    "\n",
    "http://scikit-learn.org/stable/modules/generated/sklearn.tree.DecisionTreeRegressor.html"
   ]
  },
  {
   "cell_type": "markdown",
   "metadata": {},
   "source": [
    "En primer lugar veamos como hacer cross validation. Para eso necesitamos definir la cantidad de folds, en este caso vamos a usar 5.\n",
    "\n",
    "GridSearchCV nos permite testear a través de un espacio de búsqueda de parámetros la mejor combinación posible dado un estimador.\n",
    "\n",
    "Por ejemplo, en este caso probamos la profundidad máxima y la máxima cantidad de features para hacer los split. Ambos entre 1 y 5.\n",
    "Recordemos que para hacer la optimización scikit-learn usa la métrica `neg_mean_squared_error` en lugar de `mean_squared_error`."
   ]
  },
  {
   "cell_type": "markdown",
   "metadata": {},
   "source": [
    "**Creá** una variable `param_grid` con valores del 1 al 5 para los atributos `max_depth` y `max_features`. "
   ]
  },
  {
   "cell_type": "code",
   "execution_count": 25,
   "metadata": {},
   "outputs": [],
   "source": [
    "# Creá en esta celda la variable param_grid\n",
    "param_grid = {'max_depth':[1,2,3,4,5], 'max_features':[1,2,3,4,5]}"
   ]
  },
  {
   "cell_type": "markdown",
   "metadata": {},
   "source": [
    "**Importá** `GridSearchCV` y `DecisionTreeRegressor`.\n",
    "\n",
    "**Creá** una variable `grid_search` y asignale un `GridSearchCV` que recorra el `param_grid` que creaste con el algoritmos `DecisionTreeRegressor` y el un scoring de `neg_mean_squared_error`"
   ]
  },
  {
   "cell_type": "code",
   "execution_count": 26,
   "metadata": {},
   "outputs": [],
   "source": [
    "# Importa y crea un GridSearchCV en esta celda\n",
    "from sklearn.model_selection import GridSearchCV \n",
    "from sklearn.tree import DecisionTreeRegressor \n",
    "\n",
    "tree_reg = DecisionTreeRegressor()\n",
    "grid_search = GridSearchCV(tree_reg, param_grid, scoring='neg_mean_squared_error')"
   ]
  },
  {
   "cell_type": "markdown",
   "metadata": {},
   "source": [
    "A continuación, realizá el `fit` del `grid_search` con el conjunto de entrenamiento"
   ]
  },
  {
   "cell_type": "code",
   "execution_count": 27,
   "metadata": {},
   "outputs": [
    {
     "name": "stderr",
     "output_type": "stream",
     "text": [
      "C:\\ProgramData\\Anaconda3\\lib\\site-packages\\sklearn\\model_selection\\_split.py:2053: FutureWarning: You should specify a value for 'cv' instead of relying on the default value. The default value will change from 3 to 5 in version 0.22.\n",
      "  warnings.warn(CV_WARNING, FutureWarning)\n"
     ]
    },
    {
     "data": {
      "text/plain": [
       "GridSearchCV(cv='warn', error_score='raise-deprecating',\n",
       "       estimator=DecisionTreeRegressor(criterion='mse', max_depth=None, max_features=None,\n",
       "           max_leaf_nodes=None, min_impurity_decrease=0.0,\n",
       "           min_impurity_split=None, min_samples_leaf=1,\n",
       "           min_samples_split=2, min_weight_fraction_leaf=0.0,\n",
       "           presort=False, random_state=None, splitter='best'),\n",
       "       fit_params=None, iid='warn', n_jobs=None,\n",
       "       param_grid={'max_depth': [1, 2, 3, 4, 5], 'max_features': [1, 2, 3, 4, 5]},\n",
       "       pre_dispatch='2*n_jobs', refit=True, return_train_score='warn',\n",
       "       scoring='neg_mean_squared_error', verbose=0)"
      ]
     },
     "execution_count": 27,
     "metadata": {},
     "output_type": "execute_result"
    }
   ],
   "source": [
    "# Hace el fit de grid search en esta celda\n",
    "grid_search.fit(X_train, y_train)"
   ]
  },
  {
   "cell_type": "markdown",
   "metadata": {},
   "source": [
    "Revisemos los resultados. Recordemos que no están expresados en RMSE."
   ]
  },
  {
   "cell_type": "code",
   "execution_count": 28,
   "metadata": {},
   "outputs": [
    {
     "data": {
      "text/plain": [
       "make_scorer(mean_squared_error, greater_is_better=False)"
      ]
     },
     "execution_count": 28,
     "metadata": {},
     "output_type": "execute_result"
    }
   ],
   "source": [
    "grid_search.scorer_"
   ]
  },
  {
   "cell_type": "markdown",
   "metadata": {},
   "source": [
    "**Mostrá** los `grid_scores` obtenidos durante el `grid_search`"
   ]
  },
  {
   "cell_type": "code",
   "execution_count": 29,
   "metadata": {},
   "outputs": [
    {
     "data": {
      "text/html": [
       "<div>\n",
       "<style scoped>\n",
       "    .dataframe tbody tr th:only-of-type {\n",
       "        vertical-align: middle;\n",
       "    }\n",
       "\n",
       "    .dataframe tbody tr th {\n",
       "        vertical-align: top;\n",
       "    }\n",
       "\n",
       "    .dataframe thead th {\n",
       "        text-align: right;\n",
       "    }\n",
       "</style>\n",
       "<table border=\"1\" class=\"dataframe\">\n",
       "  <thead>\n",
       "    <tr style=\"text-align: right;\">\n",
       "      <th></th>\n",
       "      <th>mean_test_score</th>\n",
       "      <th>std_test_score</th>\n",
       "      <th>max_depth</th>\n",
       "      <th>max_features</th>\n",
       "    </tr>\n",
       "  </thead>\n",
       "  <tbody>\n",
       "    <tr>\n",
       "      <th>0</th>\n",
       "      <td>-980048198.534</td>\n",
       "      <td>17037646.367</td>\n",
       "      <td>1.000</td>\n",
       "      <td>1.000</td>\n",
       "    </tr>\n",
       "    <tr>\n",
       "      <th>1</th>\n",
       "      <td>-947159991.865</td>\n",
       "      <td>59614086.700</td>\n",
       "      <td>1.000</td>\n",
       "      <td>2.000</td>\n",
       "    </tr>\n",
       "    <tr>\n",
       "      <th>2</th>\n",
       "      <td>-977819305.990</td>\n",
       "      <td>15187533.173</td>\n",
       "      <td>1.000</td>\n",
       "      <td>3.000</td>\n",
       "    </tr>\n",
       "    <tr>\n",
       "      <th>3</th>\n",
       "      <td>-873161423.478</td>\n",
       "      <td>99298084.849</td>\n",
       "      <td>1.000</td>\n",
       "      <td>4.000</td>\n",
       "    </tr>\n",
       "    <tr>\n",
       "      <th>4</th>\n",
       "      <td>-972787990.754</td>\n",
       "      <td>16327935.367</td>\n",
       "      <td>1.000</td>\n",
       "      <td>5.000</td>\n",
       "    </tr>\n",
       "    <tr>\n",
       "      <th>5</th>\n",
       "      <td>-971628073.687</td>\n",
       "      <td>23616539.106</td>\n",
       "      <td>2.000</td>\n",
       "      <td>1.000</td>\n",
       "    </tr>\n",
       "    <tr>\n",
       "      <th>6</th>\n",
       "      <td>-967923145.345</td>\n",
       "      <td>9404369.545</td>\n",
       "      <td>2.000</td>\n",
       "      <td>2.000</td>\n",
       "    </tr>\n",
       "    <tr>\n",
       "      <th>7</th>\n",
       "      <td>-967594625.050</td>\n",
       "      <td>11037473.868</td>\n",
       "      <td>2.000</td>\n",
       "      <td>3.000</td>\n",
       "    </tr>\n",
       "    <tr>\n",
       "      <th>8</th>\n",
       "      <td>-953537857.233</td>\n",
       "      <td>28691306.427</td>\n",
       "      <td>2.000</td>\n",
       "      <td>4.000</td>\n",
       "    </tr>\n",
       "    <tr>\n",
       "      <th>9</th>\n",
       "      <td>-849179560.425</td>\n",
       "      <td>85305020.538</td>\n",
       "      <td>2.000</td>\n",
       "      <td>5.000</td>\n",
       "    </tr>\n",
       "    <tr>\n",
       "      <th>10</th>\n",
       "      <td>-975573642.889</td>\n",
       "      <td>19050945.979</td>\n",
       "      <td>3.000</td>\n",
       "      <td>1.000</td>\n",
       "    </tr>\n",
       "    <tr>\n",
       "      <th>11</th>\n",
       "      <td>-884392164.169</td>\n",
       "      <td>115350109.467</td>\n",
       "      <td>3.000</td>\n",
       "      <td>2.000</td>\n",
       "    </tr>\n",
       "    <tr>\n",
       "      <th>12</th>\n",
       "      <td>-962829534.210</td>\n",
       "      <td>21587408.412</td>\n",
       "      <td>3.000</td>\n",
       "      <td>3.000</td>\n",
       "    </tr>\n",
       "    <tr>\n",
       "      <th>13</th>\n",
       "      <td>-864549032.837</td>\n",
       "      <td>88023825.640</td>\n",
       "      <td>3.000</td>\n",
       "      <td>4.000</td>\n",
       "    </tr>\n",
       "    <tr>\n",
       "      <th>14</th>\n",
       "      <td>-962405686.547</td>\n",
       "      <td>18223158.249</td>\n",
       "      <td>3.000</td>\n",
       "      <td>5.000</td>\n",
       "    </tr>\n",
       "    <tr>\n",
       "      <th>15</th>\n",
       "      <td>-930437316.335</td>\n",
       "      <td>41032247.661</td>\n",
       "      <td>4.000</td>\n",
       "      <td>1.000</td>\n",
       "    </tr>\n",
       "    <tr>\n",
       "      <th>16</th>\n",
       "      <td>-911561229.718</td>\n",
       "      <td>68731072.900</td>\n",
       "      <td>4.000</td>\n",
       "      <td>2.000</td>\n",
       "    </tr>\n",
       "    <tr>\n",
       "      <th>17</th>\n",
       "      <td>-972008784.774</td>\n",
       "      <td>17554787.614</td>\n",
       "      <td>4.000</td>\n",
       "      <td>3.000</td>\n",
       "    </tr>\n",
       "    <tr>\n",
       "      <th>18</th>\n",
       "      <td>-828093422.362</td>\n",
       "      <td>101725424.193</td>\n",
       "      <td>4.000</td>\n",
       "      <td>4.000</td>\n",
       "    </tr>\n",
       "    <tr>\n",
       "      <th>19</th>\n",
       "      <td>-793600760.807</td>\n",
       "      <td>117459073.125</td>\n",
       "      <td>4.000</td>\n",
       "      <td>5.000</td>\n",
       "    </tr>\n",
       "    <tr>\n",
       "      <th>20</th>\n",
       "      <td>-869296270.895</td>\n",
       "      <td>105190446.305</td>\n",
       "      <td>5.000</td>\n",
       "      <td>1.000</td>\n",
       "    </tr>\n",
       "    <tr>\n",
       "      <th>21</th>\n",
       "      <td>-780195259.397</td>\n",
       "      <td>102981870.742</td>\n",
       "      <td>5.000</td>\n",
       "      <td>2.000</td>\n",
       "    </tr>\n",
       "    <tr>\n",
       "      <th>22</th>\n",
       "      <td>-854624966.956</td>\n",
       "      <td>99688580.596</td>\n",
       "      <td>5.000</td>\n",
       "      <td>3.000</td>\n",
       "    </tr>\n",
       "    <tr>\n",
       "      <th>23</th>\n",
       "      <td>-836273804.314</td>\n",
       "      <td>81164739.636</td>\n",
       "      <td>5.000</td>\n",
       "      <td>4.000</td>\n",
       "    </tr>\n",
       "    <tr>\n",
       "      <th>24</th>\n",
       "      <td>-841152608.187</td>\n",
       "      <td>96325599.995</td>\n",
       "      <td>5.000</td>\n",
       "      <td>5.000</td>\n",
       "    </tr>\n",
       "  </tbody>\n",
       "</table>\n",
       "</div>"
      ],
      "text/plain": [
       "    mean_test_score  std_test_score  max_depth  max_features\n",
       "0    -980048198.534    17037646.367      1.000         1.000\n",
       "1    -947159991.865    59614086.700      1.000         2.000\n",
       "2    -977819305.990    15187533.173      1.000         3.000\n",
       "3    -873161423.478    99298084.849      1.000         4.000\n",
       "4    -972787990.754    16327935.367      1.000         5.000\n",
       "5    -971628073.687    23616539.106      2.000         1.000\n",
       "6    -967923145.345     9404369.545      2.000         2.000\n",
       "7    -967594625.050    11037473.868      2.000         3.000\n",
       "8    -953537857.233    28691306.427      2.000         4.000\n",
       "9    -849179560.425    85305020.538      2.000         5.000\n",
       "10   -975573642.889    19050945.979      3.000         1.000\n",
       "11   -884392164.169   115350109.467      3.000         2.000\n",
       "12   -962829534.210    21587408.412      3.000         3.000\n",
       "13   -864549032.837    88023825.640      3.000         4.000\n",
       "14   -962405686.547    18223158.249      3.000         5.000\n",
       "15   -930437316.335    41032247.661      4.000         1.000\n",
       "16   -911561229.718    68731072.900      4.000         2.000\n",
       "17   -972008784.774    17554787.614      4.000         3.000\n",
       "18   -828093422.362   101725424.193      4.000         4.000\n",
       "19   -793600760.807   117459073.125      4.000         5.000\n",
       "20   -869296270.895   105190446.305      5.000         1.000\n",
       "21   -780195259.397   102981870.742      5.000         2.000\n",
       "22   -854624966.956    99688580.596      5.000         3.000\n",
       "23   -836273804.314    81164739.636      5.000         4.000\n",
       "24   -841152608.187    96325599.995      5.000         5.000"
      ]
     },
     "execution_count": 29,
     "metadata": {},
     "output_type": "execute_result"
    }
   ],
   "source": [
    "# Mostrá los grid_scores en esta celda\n",
    "#grid_search.grid_scores_\n",
    "\n",
    "data = []\n",
    "max_depth = []\n",
    "max_features = []\n",
    "\n",
    "for d in grid_search.cv_results_[\"params\"]:\n",
    "    max_depth.append(d[\"max_depth\"])\n",
    "    max_features.append(d[\"max_features\"])\n",
    "\n",
    "data.append(grid_search.cv_results_[\"mean_test_score\"])\n",
    "data.append(grid_search.cv_results_[\"std_test_score\"])\n",
    "data.append(max_depth)\n",
    "data.append(max_features)\n",
    "\n",
    "df = pd.DataFrame(data)\n",
    "df = df.T\n",
    "df.columns = ['mean_test_score',\n",
    "              'std_test_score',\n",
    "              'max_depth',\n",
    "              'max_features']\n",
    "df"
   ]
  },
  {
   "cell_type": "markdown",
   "metadata": {},
   "source": [
    "De esta manera, el valor con mejor resultado (dado el espacio de búsqueda definido) es `max_depth` 3 y `max_features` 3."
   ]
  },
  {
   "cell_type": "markdown",
   "metadata": {},
   "source": [
    "**Mostrá** el mejor score y los mejores parámetros encontrados por `grid_search`"
   ]
  },
  {
   "cell_type": "code",
   "execution_count": 30,
   "metadata": {},
   "outputs": [
    {
     "name": "stdout",
     "output_type": "stream",
     "text": [
      "Mejor score: -780195259.3971479\n",
      "Mejores parameros: {'max_depth': 5, 'max_features': 2}\n"
     ]
    }
   ],
   "source": [
    "# Mostrás los resultados en esta celda\n",
    "print ('Mejor score:',grid_search.best_score_)\n",
    "print ('Mejores parameros:', grid_search.best_params_)"
   ]
  },
  {
   "cell_type": "markdown",
   "metadata": {},
   "source": [
    "Convertimos a RMSE."
   ]
  },
  {
   "cell_type": "code",
   "execution_count": 31,
   "metadata": {},
   "outputs": [],
   "source": [
    "def nmsq2rmse(score):\n",
    "    return np.round(np.sqrt(-score), 2)"
   ]
  },
  {
   "cell_type": "code",
   "execution_count": 32,
   "metadata": {},
   "outputs": [
    {
     "name": "stdout",
     "output_type": "stream",
     "text": [
      "RMSE: 27931.98\n"
     ]
    }
   ],
   "source": [
    "print('RMSE:',nmsq2rmse(grid_search.best_score_))"
   ]
  },
  {
   "cell_type": "markdown",
   "metadata": {},
   "source": [
    "__Encontrar el mejor modelo para el espacio de búsqueda dado__\n",
    "\n",
    "* `\"min_samples_split\": [2, 10, 20]`\n",
    "* `\"max_depth\": [None, 2, 5, 10, 15]`\n",
    "* `\"min_samples_leaf\": [1, 5, 10, 15]`\n",
    "* `\"max_leaf_nodes\": [None, 5, 10, 20]`"
   ]
  },
  {
   "cell_type": "code",
   "execution_count": 33,
   "metadata": {},
   "outputs": [
    {
     "name": "stderr",
     "output_type": "stream",
     "text": [
      "C:\\ProgramData\\Anaconda3\\lib\\site-packages\\sklearn\\model_selection\\_split.py:2053: FutureWarning: You should specify a value for 'cv' instead of relying on the default value. The default value will change from 3 to 5 in version 0.22.\n",
      "  warnings.warn(CV_WARNING, FutureWarning)\n"
     ]
    },
    {
     "data": {
      "text/plain": [
       "GridSearchCV(cv='warn', error_score='raise-deprecating',\n",
       "       estimator=DecisionTreeRegressor(criterion='mse', max_depth=None, max_features=None,\n",
       "           max_leaf_nodes=None, min_impurity_decrease=0.0,\n",
       "           min_impurity_split=None, min_samples_leaf=1,\n",
       "           min_samples_split=2, min_weight_fraction_leaf=0.0,\n",
       "           presort=False, random_state=None, splitter='best'),\n",
       "       fit_params=None, iid='warn', n_jobs=None,\n",
       "       param_grid={'min_samples_split': [2, 10, 20], 'max_depth': [None, 2, 5, 10, 15], 'min_samples_leaf': [1, 5, 10, 15], 'max_leaf_nodes': [None, 5, 10, 20]},\n",
       "       pre_dispatch='2*n_jobs', refit=True, return_train_score='warn',\n",
       "       scoring='neg_mean_squared_error', verbose=0)"
      ]
     },
     "execution_count": 33,
     "metadata": {},
     "output_type": "execute_result"
    }
   ],
   "source": [
    "param_grid = {'min_samples_split':[2, 10, 20], 'max_depth':[None, 2, 5, 10, 15], \n",
    "              'min_samples_leaf':[1, 5, 10, 15], 'max_leaf_nodes':[None, 5, 10, 20]}\n",
    "grid_search = GridSearchCV(tree_reg, param_grid, scoring='neg_mean_squared_error')\n",
    "grid_search.fit(X_train, y_train)"
   ]
  },
  {
   "cell_type": "code",
   "execution_count": 34,
   "metadata": {},
   "outputs": [
    {
     "name": "stdout",
     "output_type": "stream",
     "text": [
      "Mejor score: -465390253.1160248\n",
      "Mejores parameros: {'max_depth': 10, 'max_leaf_nodes': None, 'min_samples_leaf': 15, 'min_samples_split': 2}\n"
     ]
    }
   ],
   "source": [
    "# Mostrás los resultados en esta celda\n",
    "print ('Mejor score:',grid_search.best_score_)\n",
    "print ('Mejores parameros:', grid_search.best_params_)"
   ]
  },
  {
   "cell_type": "code",
   "execution_count": 35,
   "metadata": {},
   "outputs": [
    {
     "name": "stdout",
     "output_type": "stream",
     "text": [
      "RMSE: 21572.91\n"
     ]
    }
   ],
   "source": [
    "print('RMSE:',nmsq2rmse(grid_search.best_score_))"
   ]
  },
  {
   "cell_type": "markdown",
   "metadata": {},
   "source": [
    "Recordemos que `GridSearchCV` tiene como parámetro default `refit=True`. Esto significa que luego de hacer la corrida se ajusta el mejor modelo al conjunto de datos de entrada. De esta manera, se puede predecir directamente usando `best_estimator_`."
   ]
  },
  {
   "cell_type": "code",
   "execution_count": 36,
   "metadata": {},
   "outputs": [],
   "source": [
    "optimised_decision_tree = grid_search.best_estimator_"
   ]
  },
  {
   "cell_type": "markdown",
   "metadata": {},
   "source": [
    "__Evaluemos en testing el desempeño de este modelo.__\n",
    "\n",
    "Como venimos trabajando, el resultado en testing será la medición que usaremos como benchmark para comparar este modelos con otros en el futuro, puesto que no estuvo en contacto con el dataset de test para la calibración."
   ]
  },
  {
   "cell_type": "code",
   "execution_count": 37,
   "metadata": {},
   "outputs": [
    {
     "data": {
      "text/plain": [
       "21301.0"
      ]
     },
     "execution_count": 37,
     "metadata": {},
     "output_type": "execute_result"
    }
   ],
   "source": [
    "from sklearn.metrics import mean_squared_error\n",
    "y_opt_pred = optimised_decision_tree.predict(X_test)\n",
    "rmse = np.sqrt(mean_squared_error(y_test, y_opt_pred))\n",
    "np.round(rmse)"
   ]
  },
  {
   "cell_type": "markdown",
   "metadata": {},
   "source": [
    "Vemos los primeros 10 resultados de la predicción del valor de propiedades."
   ]
  },
  {
   "cell_type": "code",
   "execution_count": 38,
   "metadata": {},
   "outputs": [],
   "source": [
    "val_real = pd.Series(y_test.values)\n",
    "val_pred = pd.Series(y_opt_pred)"
   ]
  },
  {
   "cell_type": "code",
   "execution_count": 39,
   "metadata": {},
   "outputs": [],
   "source": [
    "predicciones = pd.concat([val_real.rename('Valor real'),val_pred.rename('Valor Pred') ,abs(val_real-val_pred).rename('Dif(+/-)')] ,  axis=1)"
   ]
  },
  {
   "cell_type": "code",
   "execution_count": 40,
   "metadata": {},
   "outputs": [
    {
     "data": {
      "text/html": [
       "<div>\n",
       "<style scoped>\n",
       "    .dataframe tbody tr th:only-of-type {\n",
       "        vertical-align: middle;\n",
       "    }\n",
       "\n",
       "    .dataframe tbody tr th {\n",
       "        vertical-align: top;\n",
       "    }\n",
       "\n",
       "    .dataframe thead th {\n",
       "        text-align: right;\n",
       "    }\n",
       "</style>\n",
       "<table border=\"1\" class=\"dataframe\">\n",
       "  <thead>\n",
       "    <tr style=\"text-align: right;\">\n",
       "      <th></th>\n",
       "      <th>Valor real</th>\n",
       "      <th>Valor Pred</th>\n",
       "      <th>Dif(+/-)</th>\n",
       "    </tr>\n",
       "  </thead>\n",
       "  <tbody>\n",
       "    <tr>\n",
       "      <th>0</th>\n",
       "      <td>80000.000</td>\n",
       "      <td>103438.660</td>\n",
       "      <td>23438.660</td>\n",
       "    </tr>\n",
       "    <tr>\n",
       "      <th>1</th>\n",
       "      <td>128000.000</td>\n",
       "      <td>135705.882</td>\n",
       "      <td>7705.882</td>\n",
       "    </tr>\n",
       "    <tr>\n",
       "      <th>2</th>\n",
       "      <td>150000.000</td>\n",
       "      <td>156075.759</td>\n",
       "      <td>6075.759</td>\n",
       "    </tr>\n",
       "    <tr>\n",
       "      <th>3</th>\n",
       "      <td>85000.000</td>\n",
       "      <td>102400.991</td>\n",
       "      <td>17400.991</td>\n",
       "    </tr>\n",
       "    <tr>\n",
       "      <th>4</th>\n",
       "      <td>135000.000</td>\n",
       "      <td>135571.622</td>\n",
       "      <td>571.622</td>\n",
       "    </tr>\n",
       "    <tr>\n",
       "      <th>5</th>\n",
       "      <td>135000.000</td>\n",
       "      <td>109560.000</td>\n",
       "      <td>25440.000</td>\n",
       "    </tr>\n",
       "    <tr>\n",
       "      <th>6</th>\n",
       "      <td>68000.000</td>\n",
       "      <td>75181.250</td>\n",
       "      <td>7181.250</td>\n",
       "    </tr>\n",
       "    <tr>\n",
       "      <th>7</th>\n",
       "      <td>110000.000</td>\n",
       "      <td>140444.444</td>\n",
       "      <td>30444.444</td>\n",
       "    </tr>\n",
       "    <tr>\n",
       "      <th>8</th>\n",
       "      <td>134000.000</td>\n",
       "      <td>158431.250</td>\n",
       "      <td>24431.250</td>\n",
       "    </tr>\n",
       "    <tr>\n",
       "      <th>9</th>\n",
       "      <td>110000.000</td>\n",
       "      <td>76701.202</td>\n",
       "      <td>33298.798</td>\n",
       "    </tr>\n",
       "  </tbody>\n",
       "</table>\n",
       "</div>"
      ],
      "text/plain": [
       "   Valor real  Valor Pred  Dif(+/-)\n",
       "0   80000.000  103438.660 23438.660\n",
       "1  128000.000  135705.882  7705.882\n",
       "2  150000.000  156075.759  6075.759\n",
       "3   85000.000  102400.991 17400.991\n",
       "4  135000.000  135571.622   571.622\n",
       "5  135000.000  109560.000 25440.000\n",
       "6   68000.000   75181.250  7181.250\n",
       "7  110000.000  140444.444 30444.444\n",
       "8  134000.000  158431.250 24431.250\n",
       "9  110000.000   76701.202 33298.798"
      ]
     },
     "execution_count": 40,
     "metadata": {},
     "output_type": "execute_result"
    }
   ],
   "source": [
    "predicciones.head(10)"
   ]
  }
 ],
 "metadata": {
  "kernelspec": {
   "display_name": "Python 3",
   "language": "python",
   "name": "python3"
  },
  "language_info": {
   "codemirror_mode": {
    "name": "ipython",
    "version": 3
   },
   "file_extension": ".py",
   "mimetype": "text/x-python",
   "name": "python",
   "nbconvert_exporter": "python",
   "pygments_lexer": "ipython3",
   "version": "3.7.0"
  }
 },
 "nbformat": 4,
 "nbformat_minor": 2
}
